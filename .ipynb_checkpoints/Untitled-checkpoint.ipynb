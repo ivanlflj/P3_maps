{
 "cells": [
  {
   "cell_type": "markdown",
   "metadata": {},
   "source": [
    "# OpenStreetMap Data Case Study\n",
    "## Área\n",
    "Rio de Janeiro, Brasil\n",
    "\n",
    "- [https://mapzen.com/data/metro-extracts/metro/rio-de-janeiro_brazil/](https://mapzen.com/data/metro-extracts/metro/rio-de-janeiro_brazil/)\n",
    "\n",
    "Preparação para rodar o caso em python"
   ]
  },
  {
   "cell_type": "code",
   "execution_count": 1,
   "metadata": {
    "collapsed": true
   },
   "outputs": [],
   "source": [
    "from xml.etree import cElementTree as ET\n",
    "import sqlite3 as lite\n",
    "import os"
   ]
  },
  {
   "cell_type": "markdown",
   "metadata": {},
   "source": [
    "## Problemas inicial\n",
    "O tamanho do arquivo é muito grande e dá problema para abrir no meu editor de texto. Vamos tentar fazer isso com Python"
   ]
  },
  {
   "cell_type": "code",
   "execution_count": 3,
   "metadata": {
    "collapsed": false,
    "scrolled": false
   },
   "outputs": [
    {
     "name": "stdout",
     "output_type": "stream",
     "text": [
      "<?xml version='1.0' encoding='UTF-8'?>\n",
      "\n",
      "<osm version=\"0.6\" generator=\"osmconvert 0.8.5\" timestamp=\"2017-01-19T15:04:03Z\">\n",
      "\n",
      "\t<bounds minlat=\"-23.216\" minlon=\"-43.86\" maxlat=\"-22.378\" maxlon=\"-42.751\"/>\n",
      "\n",
      "\t<node id=\"25038483\" lat=\"-22.9809491\" lon=\"-43.2068586\" version=\"2\" timestamp=\"2012-01-12T21:51:07Z\" changeset=\"10373979\" uid=\"12293\" user=\"Nighto\">\n",
      "\n",
      "\t\t<tag k=\"source\" v=\"Yahoo imaery\"/>\n",
      "\n",
      "\t</node>\n",
      "\n",
      "\t<node id=\"25038484\" lat=\"-22.9810568\" lon=\"-43.2047067\" version=\"6\" timestamp=\"2015-02-15T20:19:04Z\" changeset=\"28871672\" uid=\"2441939\" user=\"thevirginian\">\n",
      "\n",
      "\t\t<tag k=\"source\" v=\"Yahoo imaery\"/>\n",
      "\n",
      "\t</node>\n",
      "\n",
      "\t<node id=\"25038485\" lat=\"-22.9811606\" lon=\"-43.2026345\" version=\"5\" timestamp=\"2015-02-15T20:19:04Z\" changeset=\"28871672\" uid=\"2441939\" user=\"thevirginian\">\n",
      "\n",
      "\t\t<tag k=\"source\" v=\"Yahoo imaery\"/>\n",
      "\n",
      "\t</node>\n",
      "\n",
      "\t<node id=\"25038487\" lat=\"-22.9812671\" lon=\"-43.2005072\" version=\"4\" timestamp=\"2013-05-09T05:24:00Z\" changeset=\"16041528\" uid=\"481662\" user=\"Geaquinto\">\n",
      "\n",
      "\t\t<tag k=\"source\" v=\"Yahoo imaery\"/>\n",
      "\n",
      "\t</node>\n",
      "\n"
     ]
    }
   ],
   "source": [
    "with open('rio-de-janeiro_brazil.osm') as f:\n",
    "    count = 0\n",
    "    for line in f:\n",
    "        count += 1\n",
    "        print(line)\n",
    "        if count == 15:\n",
    "            break\n",
    "f.close()"
   ]
  },
  {
   "cell_type": "markdown",
   "metadata": {
    "collapsed": true
   },
   "source": [
    "Depois de analisar 10.000 linhas os dados pareceram inúteis. Vamos trabalhar um pouco nos dados para entender melhor."
   ]
  },
  {
   "cell_type": "markdown",
   "metadata": {},
   "source": [
    "## Análise de dados\n",
    "Conforme estudo de caso da Udacity vamos tentar encontrar os nomes de ruas que não deveriam estar como estão. Começamos com os nomes esperados e apresentamos os nomes diferentes e as ruas com esses nomes."
   ]
  },
  {
   "cell_type": "code",
   "execution_count": null,
   "metadata": {
    "collapsed": false
   },
   "outputs": [],
   "source": [
    "expected_names = ['Rua', 'Avenida', 'Praia', 'Travessa', 'Praça', 'Estrada', 'Ladeira', 'Boulevard', 'Beco', 'Via', 'Largo',\n",
    "                 'Campo', 'Mirante', 'Acesso', 'Alameda', 'Rodovia', 'Parque', 'Auto', 'RJ-125']\n",
    "# Convertendo todos os dados para unicode, assim pode ser comparado\n",
    "expected_names = [name.decode('utf-8') for name in expected_names]\n",
    "\n",
    "def is_street_name(elem):\n",
    "    '''Verifica se o elemento é um nome de rua'''\n",
    "    return (elem.attrib['k'] == 'addr:street')\n",
    "\n",
    "def first_word(street_name):\n",
    "    '''Pega a primeira palavra da string'''\n",
    "    return street_name.split()[0]\n",
    "\n",
    "def audit(osm_file):\n",
    "    '''Verifica o início do nome da rua que não era esperado e coloca todas as ocorrências em um dicionário'''\n",
    "    street_types_unexpected = {}\n",
    "    count = 0\n",
    "    for event, elem in ET.iterparse(osm_file, events=(\"start\",)):\n",
    "        if elem.tag == 'way':\n",
    "            for tag in elem.iter('tag'):\n",
    "                if is_street_name(tag):\n",
    "                    if first_word(tag.attrib['v']) not in expected_names:\n",
    "                        if first_word(tag.attrib['v']) in street_types_unexpected:\n",
    "                            street_types_unexpected[first_word(tag.attrib['v'])].append(tag.attrib['v'])\n",
    "                        else:\n",
    "                            street_types_unexpected[first_word(tag.attrib['v'])] = [tag.attrib['v']]\n",
    "    return street_types_unexpected\n",
    "                        \n",
    "street_types_unexpected = audit('rio-de-janeiro_brazil.osm')"
   ]
  },
  {
   "cell_type": "code",
   "execution_count": null,
   "metadata": {
    "collapsed": false
   },
   "outputs": [],
   "source": [
    "def print_unexpected(street_types_unexpected):\n",
    "    for key, values in street_types_unexpected.iteritems():\n",
    "        print(key)\n",
    "        for value in values:\n",
    "            print(\"--- \" + value)\n",
    "\n",
    "print_unexpected(street_types_unexpected)"
   ]
  },
  {
   "cell_type": "markdown",
   "metadata": {},
   "source": [
    "A maioria é necessário incluir na frente a palavra \"Rua\". As demais, \"R.\" e \"rua\" viram \"Rua, \"Av\" vira \"Avenida\", \"trav\" vira \"Travessa\", \"Estr.\" vira \"Estrada\", \"Pça.\" e \"Praca\" viram \"Praça\"."
   ]
  },
  {
   "cell_type": "code",
   "execution_count": null,
   "metadata": {
    "collapsed": false
   },
   "outputs": [],
   "source": [
    "if os.path.isfile('rio-de-janeiro_brazil.db'):\n",
    "    os.remove('rio-de-janeiro_brazil.db')\n",
    "\n",
    "con = lite.connect('rio-de-janeiro_brazil.db')\n",
    "\n",
    "with con:\n",
    "    \n",
    "    cur = con.cursor()    \n",
    "    cur.execute('''CREATE TABLE nodes (\n",
    "    id INTEGER PRIMARY KEY NOT NULL,\n",
    "    lat REAL,\n",
    "    lon REAL,\n",
    "    user TEXT,\n",
    "    uid INTEGER,\n",
    "    version INTEGER,\n",
    "    changeset INTEGER,\n",
    "    timestamp TEXT\n",
    ");\n",
    "\n",
    "CREATE TABLE nodes_tags (\n",
    "    id INTEGER,\n",
    "    key TEXT,\n",
    "    value TEXT,\n",
    "    type TEXT,\n",
    "    FOREIGN KEY (id) REFERENCES nodes(id)\n",
    ");\n",
    "\n",
    "CREATE TABLE ways (\n",
    "    id INTEGER PRIMARY KEY NOT NULL,\n",
    "    user TEXT,\n",
    "    uid INTEGER,\n",
    "    version TEXT,\n",
    "    changeset INTEGER,\n",
    "    timestamp TEXT\n",
    ");\n",
    "\n",
    "CREATE TABLE ways_tags (\n",
    "    id INTEGER NOT NULL,\n",
    "    key TEXT NOT NULL,\n",
    "    value TEXT NOT NULL,\n",
    "    type TEXT,\n",
    "    FOREIGN KEY (id) REFERENCES ways(id)\n",
    ");\n",
    "\n",
    "CREATE TABLE ways_nodes (\n",
    "    id INTEGER NOT NULL,\n",
    "    node_id INTEGER NOT NULL,\n",
    "    position INTEGER NOT NULL,\n",
    "    FOREIGN KEY (id) REFERENCES ways(id),\n",
    "    FOREIGN KEY (node_id) REFERENCES nodes(id)\n",
    ");''')\n",
    "    cur.execute(\"INSERT INTO Cars VALUES(1,'Audi',52642)\")\n",
    "    cur.execute(\"INSERT INTO Cars VALUES(2,'Mercedes',57127)\")\n",
    "    cur.execute(\"INSERT INTO Cars VALUES(3,'Skoda',9000)\")\n",
    "    cur.execute(\"INSERT INTO Cars VALUES(4,'Volvo',29000)\")\n",
    "    cur.execute(\"INSERT INTO Cars VALUES(5,'Bentley',350000)\")\n",
    "    cur.execute(\"INSERT INTO Cars VALUES(6,'Citroen',21000)\")\n",
    "    cur.execute(\"INSERT INTO Cars VALUES(7,'Hummer',41400)\")\n",
    "    cur.execute(\"INSERT INTO Cars VALUES(8,'Volkswagen',21600)\")\n",
    "    \n",
    "con.close()"
   ]
  },
  {
   "cell_type": "code",
   "execution_count": null,
   "metadata": {
    "collapsed": true
   },
   "outputs": [],
   "source": []
  }
 ],
 "metadata": {
  "anaconda-cloud": {},
  "kernelspec": {
   "display_name": "Python [Root]",
   "language": "python",
   "name": "Python [Root]"
  },
  "language_info": {
   "codemirror_mode": {
    "name": "ipython",
    "version": 2
   },
   "file_extension": ".py",
   "mimetype": "text/x-python",
   "name": "python",
   "nbconvert_exporter": "python",
   "pygments_lexer": "ipython2",
   "version": "2.7.12"
  }
 },
 "nbformat": 4,
 "nbformat_minor": 0
}
