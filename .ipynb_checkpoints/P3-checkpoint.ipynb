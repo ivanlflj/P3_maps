{
 "cells": [
  {
   "cell_type": "markdown",
   "metadata": {},
   "source": [
    "# OpenStreetMap Data Case Study\n",
    "## Área\n",
    "Rio de Janeiro, Brasil\n",
    "\n",
    "- [https://mapzen.com/data/metro-extracts/metro/rio-de-janeiro_brazil/](https://mapzen.com/data/metro-extracts/metro/rio-de-janeiro_brazil/)\n",
    "\n",
    "Preparação para rodar o caso em python"
   ]
  },
  {
   "cell_type": "code",
   "execution_count": 1,
   "metadata": {
    "collapsed": true
   },
   "outputs": [],
   "source": [
    "from xml.etree import cElementTree as ET\n",
    "import sqlite3 as lite\n",
    "import os\n",
    "import pandas as pd"
   ]
  },
  {
   "cell_type": "markdown",
   "metadata": {},
   "source": [
    "## Problemas\n",
    "Vamos falar dos problemas.\n",
    "### Problema 1: A definição das ruas, avenidas, algumas vezes estão faltando e outras não estão padronizadas.\n",
    "Abaixo os exemplos de ruas com nomes errados."
   ]
  },
  {
   "cell_type": "code",
   "execution_count": 2,
   "metadata": {
    "collapsed": false
   },
   "outputs": [
    {
     "name": "stdout",
     "output_type": "stream",
     "text": [
      "Servidão\n",
      "--- Servidão de Passagem 1\n",
      "--- Servidão de Passagem 1\n",
      "15\n",
      "--- 15 de Novembro\n",
      "Pça.\n",
      "--- Pça. da Bandeira\n",
      "Praca\n",
      "--- Praca Marechal Floriano\n",
      "Bernadino\n",
      "--- Bernadino dos Santos\n",
      "Professor\n",
      "--- Professor Fioravanti Di Piero\n",
      "rua\n",
      "--- rua G\n",
      "Estr.\n",
      "--- Estr. da Paciência\n",
      "Lourival\n",
      "--- Lourival Tavares de Paula\n",
      "Mário\n",
      "--- Mário Agostinelli\n",
      "--- Mário Agostinelli\n",
      "--- Mário Agostinelli\n",
      "--- Mário Agostinelli\n",
      "--- Mário Agostinelli\n",
      "Trav\n",
      "--- Trav Mario dos Santos\n",
      "Heráclito\n",
      "--- Heráclito Graça\n",
      "Av\n",
      "--- Av Castelo Branco\n",
      "--- Av Rotary\n",
      "--- Av Padre Anchieta\n",
      "Alfredo\n",
      "--- Alfredo Ceschiatti\n",
      "--- Alfredo Ceschiatti\n",
      "--- Alfredo Ceschiatti\n",
      "--- Alfredo Ceschiatti\n",
      "--- Alfredo Ceschiatti\n",
      "R.\n",
      "--- R. Ten. Ronald Santoro\n",
      "--- R. Miguel Gustavo\n",
      "--- R. Miguel Gustavo\n",
      "--- R. Miguel Gustavo\n",
      "--- R. Miguel Gustavo\n",
      "--- R. Miguel Gustavo\n",
      "--- R. Miguel Gustavo\n",
      "--- R. Silva Cardoso\n",
      "Afredo\n",
      "--- Afredo Ceschiatti\n",
      "Marquês\n",
      "--- Marquês de Paraná\n",
      "Dias\n",
      "--- Dias Pereira\n",
      "Presidente\n",
      "--- Presidente Tancredo Neves\n"
     ]
    }
   ],
   "source": [
    "expected_names = ['Rua', 'Avenida', 'Praia', 'Travessa', 'Praça', 'Estrada', 'Ladeira', 'Boulevard', 'Beco', 'Via', 'Largo',\n",
    "                 'Campo', 'Mirante', 'Acesso', 'Alameda', 'Rodovia', 'Parque', 'Auto', 'RJ-125']\n",
    "# Convertendo todos os dados para unicode, assim pode ser comparado\n",
    "expected_names = [name.decode('utf-8') for name in expected_names]\n",
    "\n",
    "def is_street_name(elem):\n",
    "    '''Verifica se o elemento é um nome de rua'''\n",
    "    return (elem.attrib['k'] == 'addr:street')\n",
    "\n",
    "def first_word(street_name):\n",
    "    '''Pega a primeira palavra da string'''\n",
    "    return street_name.split()[0]\n",
    "\n",
    "def audit(osm_file):\n",
    "    '''Verifica o início do nome da rua que não era esperado e coloca todas as ocorrências em um dicionário'''\n",
    "    street_types_unexpected = {}\n",
    "    for event, elem in ET.iterparse(osm_file, events=(\"start\",)):\n",
    "        if elem.tag == 'way':\n",
    "            for tag in elem.iter('tag'):\n",
    "                if is_street_name(tag):\n",
    "                    if first_word(tag.attrib['v']) not in expected_names:\n",
    "                        if first_word(tag.attrib['v']) in street_types_unexpected:\n",
    "                            street_types_unexpected[first_word(tag.attrib['v'])].append(tag.attrib['v'])\n",
    "                        else:\n",
    "                            street_types_unexpected[first_word(tag.attrib['v'])] = [tag.attrib['v']]\n",
    "    return street_types_unexpected\n",
    "\n",
    "def print_unexpected(street_types_unexpected):\n",
    "    '''Apresenta as ruas com nome para ser aprimoradas'''\n",
    "    for key, values in street_types_unexpected.iteritems():\n",
    "        print(key)\n",
    "        for value in values:\n",
    "            print(\"--- \" + value)\n",
    "            \n",
    "street_types_unexpected = audit('rio-de-janeiro_brazil.osm')\n",
    "\n",
    "print_unexpected(street_types_unexpected)"
   ]
  },
  {
   "cell_type": "markdown",
   "metadata": {},
   "source": [
    "A maioria é necessário incluir na frente a palavra \"Rua\". As demais, \"R.\" e \"rua\" viram \"Rua, \"Av\" vira \"Avenida\", \"trav\" vira \"Travessa\", \"Estr.\" vira \"Estrada\", \"Pça.\" e \"Praca\" viram \"Praça\"."
   ]
  },
  {
   "cell_type": "markdown",
   "metadata": {},
   "source": [
    "### Problema 2: Lugares estranhos e fora do padrão\n",
    "Segue abaixo todos os lugares na base de dados."
   ]
  },
  {
   "cell_type": "code",
   "execution_count": 3,
   "metadata": {
    "collapsed": false
   },
   "outputs": [
    {
     "name": "stdout",
     "output_type": "stream",
     "text": [
      "Academia: 1\n",
      "Cassino: 1\n",
      "Clínica: 1\n",
      "Clínica Odontológica: 1\n",
      "Curso de Idiomas: 1\n",
      "Empada Brasil: 1\n",
      "Estofadora: 1\n",
      "Lanchonete e Pizzaria: 1\n",
      "Loteria: 1\n",
      "Mil sabores: 1\n",
      "Ponto de Taxis: 1\n",
      "Produtos Defumados: 1\n",
      "Reform 455: 1\n",
      "Rio Decor: 1\n",
      "UNILA: 1\n",
      "arts_centre: 6\n",
      "atm: 74\n",
      "baby_hatch: 1\n",
      "bank: 488\n",
      "bar: 221\n",
      "bbq: 3\n",
      "bench: 74\n",
      "bicycle_parking: 1469\n",
      "bicycle_rental: 261\n",
      "bicycle_repair_station: 1\n",
      "brothel: 14\n",
      "building: 4\n",
      "bureau_de_change: 7\n",
      "bus_station: 155\n",
      "cafe: 127\n",
      "car_fixing: 3\n",
      "car_rental: 9\n",
      "car_wash: 25\n",
      "cartorio: 1\n",
      "casino: 1\n",
      "charging_station: 1\n",
      "childcare: 13\n",
      "ciep 113: 1\n",
      "cinema: 28\n",
      "clinic: 36\n",
      "clock: 21\n",
      "clothes_fixing: 1\n",
      "clothes_washing: 1\n",
      "club: 1\n",
      "college: 15\n",
      "community_centre: 8\n",
      "courthouse: 9\n",
      "dentist: 21\n",
      "doctors: 29\n",
      "dojo: 2\n",
      "drinking_water: 12\n",
      "driving_school: 5\n",
      "eletronics_fix: 1\n",
      "elevator: 2\n",
      "embassy: 36\n",
      "estofador: 1\n",
      "f: 1\n",
      "fast_food: 821\n",
      "ferry_terminal: 12\n",
      "fire_station: 37\n",
      "fisioterapeuta: 1\n",
      "food_court: 3\n",
      "fountain: 30\n",
      "fuel: 445\n",
      "grave_yard: 2\n",
      "gym: 17\n",
      "hospital: 154\n",
      "ice_cream: 5\n",
      "keymaker: 5\n",
      "kindergarten: 133\n",
      "lavoir: 1\n",
      "library: 15\n",
      "locksmith: 2\n",
      "love_hotel: 21\n",
      "marketplace: 13\n",
      "masonic_lodge: 1\n",
      "medical: 1\n",
      "music_venue: 1\n",
      "nightclub: 19\n",
      "organic;fast_food: 1\n",
      "other: 1\n",
      "parking: 222\n",
      "parking_entrance: 53\n",
      "pet: 1\n",
      "pharmacy: 344\n",
      "place_of_worship: 390\n",
      "police: 159\n",
      "post_box: 45\n",
      "post_office: 66\n",
      "pub: 390\n",
      "public_building: 38\n",
      "recycling: 8\n",
      "refresher: 1\n",
      "register_office: 6\n",
      "rescue_station: 1\n",
      "restaurant: 1027\n",
      "school: 1536\n",
      "seamstress: 3\n",
      "security_booth: 1\n",
      "shelter: 15\n",
      "shower: 1\n",
      "social_facility: 2\n",
      "stationery: 1\n",
      "studio: 11\n",
      "taxi: 122\n",
      "tec_common: 6\n",
      "telephone: 371\n",
      "theatre: 39\n",
      "toilets: 158\n",
      "townhall: 14\n",
      "university: 24\n",
      "vending_machine: 7\n",
      "veterinary: 31\n",
      "waste_basket: 109\n",
      "waste_disposal: 4\n",
      "yes: 1\n"
     ]
    }
   ],
   "source": [
    "def is_amenity(elem):\n",
    "    '''Verifica se o elemento é um nome de rua'''\n",
    "    return (elem.attrib['k'] == 'amenity')\n",
    "\n",
    "def audit(osm_file):\n",
    "    '''Verifica o início do nome da rua que não era esperado e coloca todas as ocorrências em um dicionário'''\n",
    "    store_types = {}\n",
    "    for event, elem in ET.iterparse(osm_file, events=(\"start\",)):\n",
    "        if elem.tag == 'node':\n",
    "            for tag in elem.iter('tag'):\n",
    "                if is_amenity(tag):\n",
    "                    if tag.attrib['v'] in store_types:\n",
    "                        store_types[tag.attrib['v']] += 1\n",
    "                    else:\n",
    "                        store_types[tag.attrib['v']] = 1\n",
    "    return store_types\n",
    "            \n",
    "store_types = audit('rio-de-janeiro_brazil.osm')\n",
    "\n",
    "for key in sorted(store_types.iterkeys()):\n",
    "    print \"%s: %s\" % (key, store_types[key])"
   ]
  },
  {
   "cell_type": "markdown",
   "metadata": {},
   "source": [
    "Podemos ver que 'Academia' pode virar 'gym'. Mas muitos são estranhos e podem ser removidos, como 'yes', 'f', 'other'. Sendo assim vamos remover todas as linhas com somente uma entrada, assim podemos retirar as linhas estranhas. No caso de não ser uma linha estranha ela é no mínimo irrelevante por só conter uma ocorrência."
   ]
  },
  {
   "cell_type": "markdown",
   "metadata": {},
   "source": [
    "### Problema 3: Formato do encoding\n",
    "Durante a programação houveram vários problemas de conversão unicode, encode, 'UTF-8' e ascii. Eles foram resolvidos no código, mas não foi algo simples."
   ]
  },
  {
   "cell_type": "markdown",
   "metadata": {},
   "source": [
    "## Preparação da base de dados\n",
    "Vamos preparar o SQL para fazer análise dos dados."
   ]
  },
  {
   "cell_type": "code",
   "execution_count": 4,
   "metadata": {
    "collapsed": false
   },
   "outputs": [],
   "source": [
    "# Criando o arquivo da base de dados\n",
    "if os.path.isfile('rio-de-janeiro_brazil.db'):\n",
    "    os.remove('rio-de-janeiro_brazil.db')\n",
    "con = lite.connect('rio-de-janeiro_brazil.db')\n",
    "\n",
    "# Criando as tabelas na base de dados\n",
    "cur = con.cursor()    \n",
    "cur.execute('''CREATE TABLE nodes (\n",
    "id INTEGER PRIMARY KEY NOT NULL,\n",
    "lat REAL,\n",
    "lon REAL,\n",
    "user TEXT,\n",
    "uid INTEGER\n",
    ");''')\n",
    "cur.execute('''CREATE TABLE nodes_tags (\n",
    "id INTEGER,\n",
    "key TEXT,\n",
    "value TEXT,\n",
    "FOREIGN KEY (id) REFERENCES nodes(id)\n",
    ");''')\n",
    "cur.execute('''CREATE TABLE ways (\n",
    "id INTEGER PRIMARY KEY NOT NULL,\n",
    "user TEXT,\n",
    "uid INTEGER\n",
    ");''')\n",
    "cur.execute('''CREATE TABLE ways_tags (\n",
    "id INTEGER NOT NULL,\n",
    "key TEXT NOT NULL,\n",
    "value TEXT NOT NULL,\n",
    "FOREIGN KEY (id) REFERENCES ways(id)\n",
    ");''')\n",
    "con.commit()\n",
    "con.close()"
   ]
  },
  {
   "cell_type": "code",
   "execution_count": 5,
   "metadata": {
    "collapsed": false,
    "scrolled": true
   },
   "outputs": [],
   "source": [
    "# Inserindo os dados na base de dados\n",
    "con = lite.connect('rio-de-janeiro_brazil.db')\n",
    "cur = con.cursor()\n",
    "for event, elem in ET.iterparse('rio-de-janeiro_brazil.osm', events=(\"start\",)):\n",
    "    if elem.tag == 'node':\n",
    "        cur.execute(\"INSERT INTO nodes VALUES(\" + elem.attrib['id'] + \",\" + elem.attrib['lat'] + \",\"\n",
    "                    + elem.attrib['lon'] + \",'\" + elem.attrib['user'] + \"',\" + elem.attrib['uid'] + \")\")\n",
    "        for tag in elem.iter('tag'):\n",
    "            cur.execute(\"INSERT INTO nodes_tags VALUES(\" + elem.attrib['id'] + \",'\" + tag.attrib['k'] + \"','\"\n",
    "                            + tag.attrib['v'].replace(\"'\",\"\") + \"')\")\n",
    "    if elem.tag == 'way':\n",
    "        cur.execute(\"INSERT INTO ways VALUES(\" + elem.attrib['id'] + \",'\" \n",
    "                    + elem.attrib['user'] + \"',\" + elem.attrib['uid'] + \")\")\n",
    "        for tag in elem.iter('tag'):\n",
    "            cur.execute(\"INSERT INTO ways_tags VALUES(\" + elem.attrib['id'] + \",'\" + tag.attrib['k'] + \"','\"\n",
    "                    + tag.attrib['v'].replace(\"'\",\"\") + \"')\")\n",
    "con.commit()\n",
    "con.close()"
   ]
  },
  {
   "cell_type": "markdown",
   "metadata": {},
   "source": [
    "Agora a base de dados está feito, precisamos consertar os problemas apresentados."
   ]
  },
  {
   "cell_type": "markdown",
   "metadata": {},
   "source": [
    "### Problema 1: A definição das ruas, avenidas, algumas vezes estão faltando e outras não estão padronizadas.\n",
    "Vamos resolver os nomes de ruas errados."
   ]
  },
  {
   "cell_type": "code",
   "execution_count": 6,
   "metadata": {
    "collapsed": false
   },
   "outputs": [],
   "source": [
    "words_to_correct = ['Servidão', '15', 'Pça.', 'Praca', 'Bernadino', 'Professor', 'rua', 'Estr.', 'Lourival',\n",
    "                    'Mário', 'Trav', 'Heráclito', 'Av', 'Alfredo', 'R.', 'Afredo', 'Marquês', 'Dias', 'Presidente']\n",
    "# Convertendo todos os dados para unicode, assim pode ser comparado\n",
    "words_to_correct = [name.decode('utf-8') for name in words_to_correct]\n",
    "\n",
    "con = lite.connect('rio-de-janeiro_brazil.db')\n",
    "cur = con.cursor()\n",
    "\n",
    "cur.execute(\"SELECT * FROM ways_tags WHERE key = 'addr:street'\")\n",
    "list_to_correct = cur.fetchall()\n",
    "for address in list_to_correct:\n",
    "    if first_word(address[2]) in words_to_correct:\n",
    "        if (first_word(address[2]) == 'R.'.decode('utf-8') or\n",
    "            first_word(address[2]) == 'rua'.decode('utf-8')):\n",
    "            new_part = 'Rua'\n",
    "            old_part = address[2].split()[1:]\n",
    "            new_word = new_part + ' ' + ' '.join(old_part)\n",
    "            cur.execute(\"UPDATE ways_tags SET value = '\" + new_word + \"' WHERE id = \" + str(address[0]) + \" and key = 'addr:street'\")\n",
    "        elif first_word(address[2]) == 'Av'.decode('utf-8'):\n",
    "            new_part = 'Avenida'\n",
    "            old_part = address[2].split()[1:]\n",
    "            new_word = new_part + ' ' + ' '.join(old_part)\n",
    "            cur.execute(\"UPDATE ways_tags SET value = '\" + new_word + \"' WHERE id = \" + str(address[0]) + \" and key = 'addr:street'\")\n",
    "        elif first_word(address[2]) == 'trav'.decode('utf-8'):\n",
    "            new_part = 'Travessa'\n",
    "            old_part = address[2].split()[1:]\n",
    "            new_word = new_part + ' ' + ' '.join(old_part)\n",
    "            cur.execute(\"UPDATE ways_tags SET value = '\" + new_word + \"' WHERE id = \" + str(address[0]) + \" and key = 'addr:street'\")\n",
    "        elif first_word(address[2]) == 'Estr.'.decode('utf-8'):\n",
    "            new_part = 'Estrada'\n",
    "            old_part = address[2].split()[1:]\n",
    "            new_word = new_part + ' ' + ' '.join(old_part)\n",
    "            cur.execute(\"UPDATE ways_tags SET value = '\" + new_word + \"' WHERE id = \" + str(address[0]) + \" and key = 'addr:street'\")\n",
    "        elif (first_word(address[2]) == 'Pça.'.decode('utf-8') or\n",
    "            first_word(address[2]) == 'Praca'.decode('utf-8')):\n",
    "            new_part = 'Praça'\n",
    "            old_part = address[2].split()[1:]\n",
    "            new_word = new_part.decode('utf-8') + ' ' + ' '.join(old_part)\n",
    "            cur.execute(\"UPDATE ways_tags SET value = '\" + new_word + \"' WHERE id = \" + str(address[0]) + \" and key = 'addr:street'\")\n",
    "        else:\n",
    "            new_part = 'Rua'\n",
    "            old_part = address[2].split()\n",
    "            new_word = new_part + ' ' + ' '.join(old_part)\n",
    "            cur.execute(\"UPDATE ways_tags SET value = '\" + new_word + \"' WHERE id = \" + str(address[0]) + \" and key = 'addr:street'\")\n",
    "con.commit()\n",
    "con.close()"
   ]
  },
  {
   "cell_type": "markdown",
   "metadata": {},
   "source": [
    "### Problema 2: A definição das ruas, avenidas, algumas vezes estão faltando e outras não estão padronizadas.\n",
    "Vamos remover os lugares estranhos e consertar a 'Academia'"
   ]
  },
  {
   "cell_type": "code",
   "execution_count": 7,
   "metadata": {
    "collapsed": false,
    "scrolled": true
   },
   "outputs": [],
   "source": [
    "con = lite.connect('rio-de-janeiro_brazil.db')\n",
    "cur = con.cursor()\n",
    "# Transforma 'Academia' em 'gym'\n",
    "cur.execute('''UPDATE nodes_tags SET value = 'gym' WHERE value = 'Academia' and key = 'amenity' ''')\n",
    "# Remove casos com somente uma ocorrência\n",
    "cur.execute('''DELETE FROM nodes_tags WHERE key = 'amenity' and \n",
    "            value in (SELECT value FROM nodes_tags WHERE key = 'amenity' GROUP BY value HAVING count(*) = 1)''')\n",
    "con.commit()\n",
    "con.close()"
   ]
  },
  {
   "cell_type": "markdown",
   "metadata": {},
   "source": [
    "## Criando csv\n",
    "Em um momento da análise é pedido a criação de CSVs, no caso vamos criá-los usando pandas."
   ]
  },
  {
   "cell_type": "code",
   "execution_count": 8,
   "metadata": {
    "collapsed": false
   },
   "outputs": [],
   "source": [
    "def create_csv_from_db(table_name):\n",
    "    '''Pega a tabela na base de dados e converte para csv'''\n",
    "    con = lite.connect('rio-de-janeiro_brazil.db')\n",
    "    dataframe = pd.read_sql('''SELECT * FROM ''' + table_name, con)\n",
    "    con.close()\n",
    "    dataframe.to_csv(table_name + '.csv', encoding = 'utf-8')\n",
    "    \n",
    "create_csv_from_db('nodes')\n",
    "create_csv_from_db('ways')\n",
    "create_csv_from_db('nodes_tags')\n",
    "create_csv_from_db('ways_tags')"
   ]
  },
  {
   "cell_type": "markdown",
   "metadata": {},
   "source": [
    "## Resultados\n",
    "Vamos agora apresentar estatísticas sobre os dados."
   ]
  },
  {
   "cell_type": "code",
   "execution_count": 9,
   "metadata": {
    "collapsed": false
   },
   "outputs": [
    {
     "name": "stdout",
     "output_type": "stream",
     "text": [
      "rio-de-janeiro_brazil.db: 88.95MB\n",
      "rio-de-janeiro_brazil.osm: 329.25MB\n",
      "nodes.csv: 91.59MB\n",
      "nodes_tags.csv: 5.08MB\n",
      "ways.csv: 6.42MB\n",
      "ways_tags.csv: 15.03MB\n"
     ]
    }
   ],
   "source": [
    "def print_file_size(extension):\n",
    "    '''Verifica todos os arquivos na pasta com a extensão e imprime nome e tamanho em MB'''\n",
    "    for file_name in os.listdir('./'):\n",
    "        if file_name.endswith(extension):\n",
    "            print(file_name + \": \" + \"{:.2f}\".format(os.path.getsize(file_name)/1024./1024) + \"MB\")\n",
    "            \n",
    "print_file_size('.db')\n",
    "print_file_size('.osm')\n",
    "print_file_size('.csv')"
   ]
  },
  {
   "cell_type": "markdown",
   "metadata": {},
   "source": [
    "Podemos notar que o arquivo '.db' é menor do que o '.csv' só da tabela nodes.\n",
    "\n",
    "Verificamos agora o número de usuários."
   ]
  },
  {
   "cell_type": "code",
   "execution_count": 10,
   "metadata": {
    "collapsed": false
   },
   "outputs": [
    {
     "name": "stdout",
     "output_type": "stream",
     "text": [
      "Os usuários com mais modificações foram:\n",
      "Id 893594 com 364055 modificações.\n",
      "Id 502691 com 162834 modificações.\n",
      "Id 4008694 com 155256 modificações.\n",
      "Id 139043 com 143376 modificações.\n",
      "Id 289524 com 84084 modificações.\n",
      "Id 481662 com 65527 modificações.\n",
      "Id 12293 com 54196 modificações.\n",
      "Id 82797 com 45644 modificações.\n",
      "Id 69210 com 32644 modificações.\n",
      "Id 2783588 com 32473 modificações.\n",
      "O total de usuários foi 1204.\n"
     ]
    }
   ],
   "source": [
    "con = lite.connect('rio-de-janeiro_brazil.db')\n",
    "cur = con.cursor()\n",
    "cur.execute('''SELECT uid, count(*) as num FROM nodes GROUP BY uid ORDER BY num desc LIMIT 10''')\n",
    "users_modify = cur.fetchall()\n",
    "print('Os usuários com mais modificações foram:')\n",
    "for user in users_modify:\n",
    "    print('Id {0} com {1} modificações.'.format(user[0], user[1]))\n",
    "cur.execute('''SELECT count(*) FROM (SELECT uid, count(*) as num FROM nodes GROUP BY uid)''')\n",
    "users = cur.fetchall()\n",
    "print('O total de usuários foi {}.'.format(users[0][0]))\n",
    "con.close()"
   ]
  },
  {
   "cell_type": "markdown",
   "metadata": {},
   "source": [
    "Vamos analisar os nodes e ways."
   ]
  },
  {
   "cell_type": "code",
   "execution_count": 11,
   "metadata": {
    "collapsed": false
   },
   "outputs": [
    {
     "name": "stdout",
     "output_type": "stream",
     "text": [
      "O total de nodes foi 1576848.\n",
      "O total de ways foi 190756.\n"
     ]
    }
   ],
   "source": [
    "con = lite.connect('rio-de-janeiro_brazil.db')\n",
    "cur = con.cursor()\n",
    "cur.execute('''SELECT count(*) FROM (SELECT count(*) FROM nodes GROUP BY id)''')\n",
    "nodes = cur.fetchall()\n",
    "print('O total de nodes foi {}.'.format(nodes[0][0]))\n",
    "cur.execute('''SELECT count(*) FROM (SELECT count(*) FROM ways GROUP BY id)''')\n",
    "ways = cur.fetchall()\n",
    "print('O total de ways foi {}.'.format(ways[0][0]))\n",
    "con.close()"
   ]
  },
  {
   "cell_type": "code",
   "execution_count": 12,
   "metadata": {
    "collapsed": false
   },
   "outputs": [
    {
     "name": "stdout",
     "output_type": "stream",
     "text": [
      "Lojas e quantidades são:\n",
      "A loja arts_centre tem 6 estabelecimentos no mapa.\n",
      "A loja atm tem 74 estabelecimentos no mapa.\n",
      "A loja bank tem 488 estabelecimentos no mapa.\n",
      "A loja bar tem 221 estabelecimentos no mapa.\n",
      "A loja bbq tem 3 estabelecimentos no mapa.\n",
      "A loja bench tem 74 estabelecimentos no mapa.\n",
      "A loja bicycle_parking tem 1469 estabelecimentos no mapa.\n",
      "A loja bicycle_rental tem 261 estabelecimentos no mapa.\n",
      "A loja brothel tem 14 estabelecimentos no mapa.\n",
      "A loja building tem 4 estabelecimentos no mapa.\n",
      "A loja bureau_de_change tem 7 estabelecimentos no mapa.\n",
      "A loja bus_station tem 155 estabelecimentos no mapa.\n",
      "A loja cafe tem 127 estabelecimentos no mapa.\n",
      "A loja car_fixing tem 3 estabelecimentos no mapa.\n",
      "A loja car_rental tem 9 estabelecimentos no mapa.\n",
      "A loja car_wash tem 25 estabelecimentos no mapa.\n",
      "A loja childcare tem 13 estabelecimentos no mapa.\n",
      "A loja cinema tem 28 estabelecimentos no mapa.\n",
      "A loja clinic tem 36 estabelecimentos no mapa.\n",
      "A loja clock tem 21 estabelecimentos no mapa.\n",
      "A loja college tem 15 estabelecimentos no mapa.\n",
      "A loja community_centre tem 8 estabelecimentos no mapa.\n",
      "A loja courthouse tem 9 estabelecimentos no mapa.\n",
      "A loja dentist tem 21 estabelecimentos no mapa.\n",
      "A loja doctors tem 29 estabelecimentos no mapa.\n",
      "A loja dojo tem 2 estabelecimentos no mapa.\n",
      "A loja drinking_water tem 12 estabelecimentos no mapa.\n",
      "A loja driving_school tem 5 estabelecimentos no mapa.\n",
      "A loja elevator tem 2 estabelecimentos no mapa.\n",
      "A loja embassy tem 36 estabelecimentos no mapa.\n",
      "A loja fast_food tem 821 estabelecimentos no mapa.\n",
      "A loja ferry_terminal tem 12 estabelecimentos no mapa.\n",
      "A loja fire_station tem 37 estabelecimentos no mapa.\n",
      "A loja food_court tem 3 estabelecimentos no mapa.\n",
      "A loja fountain tem 30 estabelecimentos no mapa.\n",
      "A loja fuel tem 445 estabelecimentos no mapa.\n",
      "A loja grave_yard tem 2 estabelecimentos no mapa.\n",
      "A loja gym tem 18 estabelecimentos no mapa.\n",
      "A loja hospital tem 154 estabelecimentos no mapa.\n",
      "A loja ice_cream tem 5 estabelecimentos no mapa.\n",
      "A loja keymaker tem 5 estabelecimentos no mapa.\n",
      "A loja kindergarten tem 133 estabelecimentos no mapa.\n",
      "A loja library tem 15 estabelecimentos no mapa.\n",
      "A loja locksmith tem 2 estabelecimentos no mapa.\n",
      "A loja love_hotel tem 21 estabelecimentos no mapa.\n",
      "A loja marketplace tem 13 estabelecimentos no mapa.\n",
      "A loja nightclub tem 19 estabelecimentos no mapa.\n",
      "A loja parking tem 222 estabelecimentos no mapa.\n",
      "A loja parking_entrance tem 53 estabelecimentos no mapa.\n",
      "A loja pharmacy tem 344 estabelecimentos no mapa.\n",
      "A loja place_of_worship tem 390 estabelecimentos no mapa.\n",
      "A loja police tem 159 estabelecimentos no mapa.\n",
      "A loja post_box tem 45 estabelecimentos no mapa.\n",
      "A loja post_office tem 66 estabelecimentos no mapa.\n",
      "A loja pub tem 390 estabelecimentos no mapa.\n",
      "A loja public_building tem 38 estabelecimentos no mapa.\n",
      "A loja recycling tem 8 estabelecimentos no mapa.\n",
      "A loja register_office tem 6 estabelecimentos no mapa.\n",
      "A loja restaurant tem 1027 estabelecimentos no mapa.\n",
      "A loja school tem 1536 estabelecimentos no mapa.\n",
      "A loja seamstress tem 3 estabelecimentos no mapa.\n",
      "A loja shelter tem 15 estabelecimentos no mapa.\n",
      "A loja social_facility tem 2 estabelecimentos no mapa.\n",
      "A loja studio tem 11 estabelecimentos no mapa.\n",
      "A loja taxi tem 122 estabelecimentos no mapa.\n",
      "A loja tec_common tem 6 estabelecimentos no mapa.\n",
      "A loja telephone tem 371 estabelecimentos no mapa.\n",
      "A loja theatre tem 39 estabelecimentos no mapa.\n",
      "A loja toilets tem 158 estabelecimentos no mapa.\n",
      "A loja townhall tem 14 estabelecimentos no mapa.\n",
      "A loja university tem 24 estabelecimentos no mapa.\n",
      "A loja vending_machine tem 7 estabelecimentos no mapa.\n",
      "A loja veterinary tem 31 estabelecimentos no mapa.\n",
      "A loja waste_basket tem 109 estabelecimentos no mapa.\n",
      "A loja waste_disposal tem 4 estabelecimentos no mapa.\n"
     ]
    }
   ],
   "source": [
    "con = lite.connect('rio-de-janeiro_brazil.db')\n",
    "cur = con.cursor()\n",
    "cur.execute('''SELECT value, count(*) FROM nodes_tags WHERE key = 'amenity' GROUP BY value''')\n",
    "stores = cur.fetchall()\n",
    "print('Lojas e quantidades são:')\n",
    "for store in stores:\n",
    "    print('A loja {0} tem {1} estabelecimentos no mapa.'.format(store[0], store[1]))\n",
    "con.close()"
   ]
  },
  {
   "cell_type": "markdown",
   "metadata": {},
   "source": [
    "## Futuras análises\n",
    "Pode ser avaliado futuramente informações como a média de nomes que cada usuário teve. Esse tipo de análise não teria muitas dificuldades, pode-se até analisar quais usuários mais tiveram diferentes nomes.\n",
    "\n",
    "Outra análise seria melhor tratar os tipos de estabelecimentos. O problema é que precisaria de uma análise mais apurada dos estabelecimentos. Por exemplo, para mim 'waste_basket' deve ser o mesmo que 'waste_disposal', mas precisa de uma análise para confirmar se essa informação está certa e como podemos juntá-la."
   ]
  },
  {
   "cell_type": "code",
   "execution_count": null,
   "metadata": {
    "collapsed": true
   },
   "outputs": [],
   "source": []
  }
 ],
 "metadata": {
  "anaconda-cloud": {},
  "kernelspec": {
   "display_name": "Python [Root]",
   "language": "python",
   "name": "Python [Root]"
  },
  "language_info": {
   "codemirror_mode": {
    "name": "ipython",
    "version": 2
   },
   "file_extension": ".py",
   "mimetype": "text/x-python",
   "name": "python",
   "nbconvert_exporter": "python",
   "pygments_lexer": "ipython2",
   "version": "2.7.12"
  }
 },
 "nbformat": 4,
 "nbformat_minor": 0
}
